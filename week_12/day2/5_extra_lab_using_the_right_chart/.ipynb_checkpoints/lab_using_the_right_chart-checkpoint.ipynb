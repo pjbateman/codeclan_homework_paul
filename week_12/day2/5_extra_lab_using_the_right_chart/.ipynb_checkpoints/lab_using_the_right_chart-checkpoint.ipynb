{
 "cells": [
  {
   "cell_type": "markdown",
   "metadata": {},
   "source": [
    "# Lab - Using the right chart\n",
    "\n"
   ]
  },
  {
   "cell_type": "markdown",
   "metadata": {},
   "source": [
    "This lab lets us practice our technical skills in plotting using `seaborn` and gets us thinking about effective charts and what kind of graph is most suitable for the data and purpose. \n",
    "\n",
    "For all the exercises below all our answers are just suggestions - you may well have better answers! And we encourage you to play with customisation of the plots (keeping all the learnings around data-to-ink ratio, chart junk, simplicity, colour, font size etc. in mind!). \n",
    "\n",
    "All the datasets can be found in the `data` folder in this lab folder. "
   ]
  },
  {
   "cell_type": "markdown",
   "metadata": {},
   "source": [
    "<hr style=\"border:0.2px solid black\"> </hr>\n",
    "\n",
    "# Comparison Plots\n",
    "\n",
    "Here the goal is to contrast different values between categories or time points. \n",
    "\n",
    "**Bar or column charts** are the best choice for this. The bars give a strong and immediate impression of relative size, but people’s ability to process pre-attentive attributes is limited - show too many comparisons and the effect is undermined.\n",
    "\n",
    "If there are too many points to represent, or too many categories to make comparisons natural, then we typically turn to **line graphs**. These are particularly suited to time points where the line is naturally suggestive of progression from left to right. However most line charts become confusing beyond 6-8 lines except in unusual circumstances. In this event, we may need to consider faceting our data over multiple subplots. We haven't covered facetting today but you can find out more about it [here](https://seaborn.pydata.org/generated/seaborn.FacetGrid.html).\n"
   ]
  },
  {
   "cell_type": "markdown",
   "metadata": {},
   "source": [
    "## Task\n",
    "\n",
    "Create a suitable plot for the following datasets:\n",
    "\n",
    "> `late_deliveries`\n",
    "\n",
    "> `recovery_times` (Hint: you might want to look into `sns.catplot`)"
   ]
  },
  {
   "cell_type": "markdown",
   "metadata": {},
   "source": [
    "<hr style=\"border:0.2px solid black\"> </hr>\n",
    "\n",
    "# Connection Plots\n",
    "\n",
    "Here the objective is to identify the relationship between two or three continuous variables.\n",
    "\n",
    "This is the purpose **scatter plots** were designed for.We can supplement the scatter plot with size or colour aesthetics to show a third dimension, but the effectiveness of this for continuous variables can be uncertain - too many colours can be difficult to make sense of, and sizes are hard to compare.\n",
    "\n",
    "If you want to include a categorical variable as your third, this is more hopeful, although if you have too many categories it can run into the same issues."
   ]
  },
  {
   "cell_type": "markdown",
   "metadata": {},
   "source": [
    "## Task\n",
    "\n",
    "Create a suitable plot for the following datasets:\n",
    "\n",
    "> `blood_pressure`\n",
    "\n",
    "> `car_use`"
   ]
  },
  {
   "cell_type": "markdown",
   "metadata": {},
   "source": [
    "<hr style=\"border:0.2px solid black\"> </hr>\n",
    "\n",
    "# Composition Plots\n",
    "\n",
    "Here the goal is to show how the parts of a whole relate to each other, or how they alter over time.\n",
    "\n",
    "If you’re only looking at a single composition, a **pie chart** is fine.\n",
    "\n",
    "If you want to compare multiple compositions, then a **stacked bar chart** is probably better suited to the purpose (lengths are easier to compare than angles).\n",
    "\n",
    "If you are looking at the evolution of a composition over time then a **stacked bar chart** is also fine for a small number of time points, but if you have a large number of time points a **stacked area chart** may be more appropriate.\n",
    "\n",
    "Lastly if you want to look at an accumulation (e.g. a series of debits and credits applied to an opening balance) then a **waterfall chart** is a standard way of representing this.\n",
    "\n",
    "Be conscious whether you’re interest in the shape of the composition (relative size of the parts) or if the level of the composition (absolute size) is also of interest. In the former case, you will usually scale the parts to percentages of the whole. In the latter case you’ll usually retain the original units."
   ]
  },
  {
   "cell_type": "markdown",
   "metadata": {},
   "source": [
    "## Task\n",
    "\n",
    "Make plots to display the data in:\n",
    "\n",
    "> `pension_surplus`"
   ]
  }
 ],
 "metadata": {
  "kernelspec": {
   "display_name": "Python 3",
   "language": "python",
   "name": "python3"
  },
  "language_info": {
   "codemirror_mode": {
    "name": "ipython",
    "version": 3
   },
   "file_extension": ".py",
   "mimetype": "text/x-python",
   "name": "python",
   "nbconvert_exporter": "python",
   "pygments_lexer": "ipython3",
   "version": "3.7.3"
  },
  "toc": {
   "base_numbering": 1,
   "nav_menu": {},
   "number_sections": true,
   "sideBar": true,
   "skip_h1_title": false,
   "title_cell": "Table of Contents",
   "title_sidebar": "Contents",
   "toc_cell": false,
   "toc_position": {},
   "toc_section_display": true,
   "toc_window_display": true
  },
  "varInspector": {
   "cols": {
    "lenName": 16,
    "lenType": 16,
    "lenVar": 40
   },
   "kernels_config": {
    "python": {
     "delete_cmd_postfix": "",
     "delete_cmd_prefix": "del ",
     "library": "var_list.py",
     "varRefreshCmd": "print(var_dic_list())"
    },
    "r": {
     "delete_cmd_postfix": ") ",
     "delete_cmd_prefix": "rm(",
     "library": "var_list.r",
     "varRefreshCmd": "cat(var_dic_list()) "
    }
   },
   "types_to_exclude": [
    "module",
    "function",
    "builtin_function_or_method",
    "instance",
    "_Feature"
   ],
   "window_display": false
  }
 },
 "nbformat": 4,
 "nbformat_minor": 2
}
