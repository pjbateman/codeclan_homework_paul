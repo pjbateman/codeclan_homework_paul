{
 "cells": [
  {
   "cell_type": "markdown",
   "metadata": {},
   "source": [
    "# Lab - Using the right chart (solutions)\n"
   ]
  },
  {
   "cell_type": "markdown",
   "metadata": {},
   "source": [
    "This lab lets us practice our technical skills in plotting using `seaborn` and gets us thinking about effective charts and what kind of graph is most suitable for the data and purpose. \n",
    "\n",
    "For all the exercises below all our answers are just suggestions - you may well have better answers! And we encourage you to play with customisation of the plots (keeping all the learnings around data-to-ink ratio, chart junk, simplicity, colour, font size etc. in mind!). \n",
    "\n",
    "All the datasets can be found in the `data` folder in this lab folder. "
   ]
  },
  {
   "cell_type": "code",
   "execution_count": 1,
   "metadata": {},
   "outputs": [],
   "source": [
    "# before we begin, import the libraries and set parameters\n",
    "import pandas as pd\n",
    "import seaborn as sns\n",
    "import matplotlib.pyplot as plt\n",
    "\n",
    "plt.rcParams['figure.figsize'] = [5, 3]\n",
    "plt.rcParams['figure.dpi'] = 120\n",
    "plt.rcParams['font.size'] = 8"
   ]
  },
  {
   "cell_type": "markdown",
   "metadata": {},
   "source": [
    "<hr style=\"border:0.2px solid black\"> </hr>\n",
    "\n",
    "# Comparison Plots\n",
    "\n",
    "Here the goal is to contrast different values between categories or time points. \n",
    "\n",
    "**Bar or column charts** are the best choice for this. The bars give a strong and immediate impression of relative size, but people’s ability to process pre-attentive attributes is limited - show too many comparisons and the effect is undermined.\n",
    "\n",
    "If there are too many points to represent, or too many categories to make comparisons natural, then we typically turn to **line graphs**. These are particularly suited to time points where the line is naturally suggestive of progression from left to right. However most line charts become confusing beyond 6-8 lines except in unusual circumstances. In this event, we may need to consider faceting our data over multiple subplots. We haven't covered facetting today but you can find out more about it [here](https://seaborn.pydata.org/generated/seaborn.FacetGrid.html)."
   ]
  },
  {
   "cell_type": "markdown",
   "metadata": {},
   "source": [
    "### Task\n",
    "\n",
    "Create a suitable plot for the following datasets:\n",
    "\n",
    "> `late_deliveries`\n",
    "\n",
    "> `recovery_times` (Hint: you might want to look into `sns.catplot`)"
   ]
  },
  {
   "cell_type": "markdown",
   "metadata": {},
   "source": [
    "### Late deliveries plot"
   ]
  },
  {
   "cell_type": "code",
   "execution_count": 2,
   "metadata": {},
   "outputs": [
    {
     "data": {
      "text/html": [
       "<div>\n",
       "<style scoped>\n",
       "    .dataframe tbody tr th:only-of-type {\n",
       "        vertical-align: middle;\n",
       "    }\n",
       "\n",
       "    .dataframe tbody tr th {\n",
       "        vertical-align: top;\n",
       "    }\n",
       "\n",
       "    .dataframe thead th {\n",
       "        text-align: right;\n",
       "    }\n",
       "</style>\n",
       "<table border=\"1\" class=\"dataframe\">\n",
       "  <thead>\n",
       "    <tr style=\"text-align: right;\">\n",
       "      <th></th>\n",
       "      <th>date</th>\n",
       "      <th>late_deliveries</th>\n",
       "    </tr>\n",
       "  </thead>\n",
       "  <tbody>\n",
       "    <tr>\n",
       "      <th>43</th>\n",
       "      <td>2018-08-01</td>\n",
       "      <td>74</td>\n",
       "    </tr>\n",
       "    <tr>\n",
       "      <th>44</th>\n",
       "      <td>2018-09-01</td>\n",
       "      <td>66</td>\n",
       "    </tr>\n",
       "    <tr>\n",
       "      <th>45</th>\n",
       "      <td>2018-10-01</td>\n",
       "      <td>63</td>\n",
       "    </tr>\n",
       "    <tr>\n",
       "      <th>46</th>\n",
       "      <td>2018-11-01</td>\n",
       "      <td>52</td>\n",
       "    </tr>\n",
       "    <tr>\n",
       "      <th>47</th>\n",
       "      <td>2018-12-01</td>\n",
       "      <td>61</td>\n",
       "    </tr>\n",
       "  </tbody>\n",
       "</table>\n",
       "</div>"
      ],
      "text/plain": [
       "          date  late_deliveries\n",
       "43  2018-08-01               74\n",
       "44  2018-09-01               66\n",
       "45  2018-10-01               63\n",
       "46  2018-11-01               52\n",
       "47  2018-12-01               61"
      ]
     },
     "execution_count": 2,
     "metadata": {},
     "output_type": "execute_result"
    }
   ],
   "source": [
    "# check out the data\n",
    "late_deliveries = pd.read_csv(\"data/late_deliveries.csv\")\n",
    "late_deliveries.head()\n",
    "late_deliveries.tail()"
   ]
  },
  {
   "cell_type": "code",
   "execution_count": 3,
   "metadata": {},
   "outputs": [
    {
     "data": {
      "image/png": "[encoded data removed]",
      "text/plain": [
       "<Figure size 432x288 with 1 Axes>"
      ]
     },
     "metadata": {
      "needs_background": "light"
     },
     "output_type": "display_data"
    }
   ],
   "source": [
    "# pick a line plot, because we have data over time we want to show\n",
    "sns.lineplot(x = \"date\", y = \"late_deliveries\", data = late_deliveries);\n",
    "\n",
    "# add some labels and titles\n",
    "plt.xlabel(\"year\") \n",
    "plt.ylabel(\"delivery count\") \n",
    "plt.title(\"Late deliveries over time\");\n",
    "\n",
    "# change the tick marks on the x-axis to make it neater\n",
    "plt.xticks([\"2015-01-01\", \"2016-01-01\", \"2017-01-01\" ,\"2018-01-01\", \"2019-01-01\"]);\n"
   ]
  },
  {
   "cell_type": "markdown",
   "metadata": {},
   "source": [
    "### Recovery times plot"
   ]
  },
  {
   "cell_type": "code",
   "execution_count": 4,
   "metadata": {},
   "outputs": [
    {
     "data": {
      "text/html": [
       "<div>\n",
       "<style scoped>\n",
       "    .dataframe tbody tr th:only-of-type {\n",
       "        vertical-align: middle;\n",
       "    }\n",
       "\n",
       "    .dataframe tbody tr th {\n",
       "        vertical-align: top;\n",
       "    }\n",
       "\n",
       "    .dataframe thead th {\n",
       "        text-align: right;\n",
       "    }\n",
       "</style>\n",
       "<table border=\"1\" class=\"dataframe\">\n",
       "  <thead>\n",
       "    <tr style=\"text-align: right;\">\n",
       "      <th></th>\n",
       "      <th>prognosis</th>\n",
       "      <th>treatment_group</th>\n",
       "      <th>recovery</th>\n",
       "    </tr>\n",
       "  </thead>\n",
       "  <tbody>\n",
       "    <tr>\n",
       "      <th>0</th>\n",
       "      <td>Excellent</td>\n",
       "      <td>treatment_a</td>\n",
       "      <td>6</td>\n",
       "    </tr>\n",
       "    <tr>\n",
       "      <th>1</th>\n",
       "      <td>Good</td>\n",
       "      <td>treatment_a</td>\n",
       "      <td>7</td>\n",
       "    </tr>\n",
       "    <tr>\n",
       "      <th>2</th>\n",
       "      <td>Average</td>\n",
       "      <td>treatment_a</td>\n",
       "      <td>12</td>\n",
       "    </tr>\n",
       "    <tr>\n",
       "      <th>3</th>\n",
       "      <td>Poor</td>\n",
       "      <td>treatment_a</td>\n",
       "      <td>15</td>\n",
       "    </tr>\n",
       "    <tr>\n",
       "      <th>4</th>\n",
       "      <td>Excellent</td>\n",
       "      <td>treatment_b</td>\n",
       "      <td>7</td>\n",
       "    </tr>\n",
       "  </tbody>\n",
       "</table>\n",
       "</div>"
      ],
      "text/plain": [
       "   prognosis treatment_group  recovery\n",
       "0  Excellent     treatment_a         6\n",
       "1       Good     treatment_a         7\n",
       "2    Average     treatment_a        12\n",
       "3       Poor     treatment_a        15\n",
       "4  Excellent     treatment_b         7"
      ]
     },
     "execution_count": 4,
     "metadata": {},
     "output_type": "execute_result"
    }
   ],
   "source": [
    "recovery_times = pd.read_csv(\"data/recovery_times.csv\")\n",
    "recovery_times.head()"
   ]
  },
  {
   "cell_type": "code",
   "execution_count": 5,
   "metadata": {},
   "outputs": [
    {
     "data": {
      "image/png": "[encoded data removed]",
      "text/plain": [
       "<Figure size 441.875x360 with 1 Axes>"
      ]
     },
     "metadata": {
      "needs_background": "light"
     },
     "output_type": "display_data"
    }
   ],
   "source": [
    "# we have different categories, so a bar plot is probably good to see them all\n",
    "sns.catplot(x = \"treatment_group\", y = \"recovery\", data = recovery_times, \n",
    "            hue = \"prognosis\", kind = \"bar\")\n",
    "\n",
    "# add titles and labels\n",
    "plt.title(\"Recovery time for different treatment groups, split by prognosis\")\n",
    "plt.ylabel(\"Recovery time\");\n",
    "plt.xlabel(\"treatment group\");"
   ]
  },
  {
   "cell_type": "markdown",
   "metadata": {},
   "source": [
    "<hr style=\"border:0.2px solid black\"> </hr>\n",
    "\n",
    "# Connection Plots\n",
    "\n",
    "Here the objective is to identify the relationship between two or three continuous variables.\n",
    "\n",
    "This is the purpose **scatter plots** were designed for.We can supplement the scatter plot with size or colour aesthetics to show a third dimension, but the effectiveness of this for continuous variables can be uncertain - too many colours can be difficult to make sense of, and sizes are hard to compare.\n",
    "\n",
    "If you want to include a categorical variable as your third, this is more hopeful, although if you have too many categories it can run into the same issues."
   ]
  },
  {
   "cell_type": "markdown",
   "metadata": {},
   "source": [
    "### Task\n",
    "\n",
    "Create a suitable plot for the following datasets:\n",
    "\n",
    "> `blood_pressure`\n",
    "\n",
    "> `car_use`"
   ]
  },
  {
   "cell_type": "markdown",
   "metadata": {},
   "source": [
    "### Blood pressure plot"
   ]
  },
  {
   "cell_type": "code",
   "execution_count": 6,
   "metadata": {},
   "outputs": [
    {
     "data": {
      "text/html": [
       "<div>\n",
       "<style scoped>\n",
       "    .dataframe tbody tr th:only-of-type {\n",
       "        vertical-align: middle;\n",
       "    }\n",
       "\n",
       "    .dataframe tbody tr th {\n",
       "        vertical-align: top;\n",
       "    }\n",
       "\n",
       "    .dataframe thead th {\n",
       "        text-align: right;\n",
       "    }\n",
       "</style>\n",
       "<table border=\"1\" class=\"dataframe\">\n",
       "  <thead>\n",
       "    <tr style=\"text-align: right;\">\n",
       "      <th></th>\n",
       "      <th>daily_saturated_fat_intake_mg</th>\n",
       "      <th>systolic_blood_pressure_mm_hg</th>\n",
       "    </tr>\n",
       "  </thead>\n",
       "  <tbody>\n",
       "    <tr>\n",
       "      <th>0</th>\n",
       "      <td>31.840512</td>\n",
       "      <td>148.469227</td>\n",
       "    </tr>\n",
       "    <tr>\n",
       "      <th>1</th>\n",
       "      <td>26.643062</td>\n",
       "      <td>128.983803</td>\n",
       "    </tr>\n",
       "    <tr>\n",
       "      <th>2</th>\n",
       "      <td>23.240241</td>\n",
       "      <td>127.239366</td>\n",
       "    </tr>\n",
       "    <tr>\n",
       "      <th>3</th>\n",
       "      <td>22.840532</td>\n",
       "      <td>130.992788</td>\n",
       "    </tr>\n",
       "    <tr>\n",
       "      <th>4</th>\n",
       "      <td>22.923968</td>\n",
       "      <td>127.600460</td>\n",
       "    </tr>\n",
       "  </tbody>\n",
       "</table>\n",
       "</div>"
      ],
      "text/plain": [
       "   daily_saturated_fat_intake_mg  systolic_blood_pressure_mm_hg\n",
       "0                      31.840512                     148.469227\n",
       "1                      26.643062                     128.983803\n",
       "2                      23.240241                     127.239366\n",
       "3                      22.840532                     130.992788\n",
       "4                      22.923968                     127.600460"
      ]
     },
     "execution_count": 6,
     "metadata": {},
     "output_type": "execute_result"
    }
   ],
   "source": [
    "# check out the data\n",
    "blood_pressure = pd.read_csv(\"data/blood_pressure.csv\")\n",
    "blood_pressure.head()"
   ]
  },
  {
   "cell_type": "code",
   "execution_count": 7,
   "metadata": {},
   "outputs": [
    {
     "data": {
      "image/png": "[encoded data removed]",
      "text/plain": [
       "<Figure size 432x288 with 1 Axes>"
      ]
     },
     "metadata": {
      "needs_background": "light"
     },
     "output_type": "display_data"
    }
   ],
   "source": [
    "# have two sets of numbers to compare. Want to probably make a scatterplot\n",
    "sns.scatterplot(x = \"daily_saturated_fat_intake_mg\", \n",
    "                y = \"systolic_blood_pressure_mm_hg\", \n",
    "                data = blood_pressure)\n",
    "\n",
    "# add some titles and labels\n",
    "plt.xlabel(\"daily fat intake (mg)\")\n",
    "plt.ylabel(\"systolic blood pressure (mmHg)\");\n",
    "plt.title(\"Scatterplot of blood pressure readings\"); "
   ]
  },
  {
   "cell_type": "markdown",
   "metadata": {},
   "source": [
    "### Car use plot"
   ]
  },
  {
   "cell_type": "code",
   "execution_count": 8,
   "metadata": {},
   "outputs": [
    {
     "data": {
      "text/html": [
       "<div>\n",
       "<style scoped>\n",
       "    .dataframe tbody tr th:only-of-type {\n",
       "        vertical-align: middle;\n",
       "    }\n",
       "\n",
       "    .dataframe tbody tr th {\n",
       "        vertical-align: top;\n",
       "    }\n",
       "\n",
       "    .dataframe thead th {\n",
       "        text-align: right;\n",
       "    }\n",
       "</style>\n",
       "<table border=\"1\" class=\"dataframe\">\n",
       "  <thead>\n",
       "    <tr style=\"text-align: right;\">\n",
       "      <th></th>\n",
       "      <th>city</th>\n",
       "      <th>car_use_percent</th>\n",
       "      <th>population</th>\n",
       "      <th>air_so2_concentration_ppm</th>\n",
       "    </tr>\n",
       "  </thead>\n",
       "  <tbody>\n",
       "    <tr>\n",
       "      <th>0</th>\n",
       "      <td>A</td>\n",
       "      <td>0.190134</td>\n",
       "      <td>52756.531425</td>\n",
       "      <td>0.308758</td>\n",
       "    </tr>\n",
       "    <tr>\n",
       "      <th>1</th>\n",
       "      <td>B</td>\n",
       "      <td>0.252174</td>\n",
       "      <td>183568.684515</td>\n",
       "      <td>2.057070</td>\n",
       "    </tr>\n",
       "    <tr>\n",
       "      <th>2</th>\n",
       "      <td>C</td>\n",
       "      <td>0.335155</td>\n",
       "      <td>3283.327866</td>\n",
       "      <td>0.586131</td>\n",
       "    </tr>\n",
       "    <tr>\n",
       "      <th>3</th>\n",
       "      <td>D</td>\n",
       "      <td>0.136883</td>\n",
       "      <td>88007.259212</td>\n",
       "      <td>0.403134</td>\n",
       "    </tr>\n",
       "    <tr>\n",
       "      <th>4</th>\n",
       "      <td>E</td>\n",
       "      <td>0.036455</td>\n",
       "      <td>35903.004798</td>\n",
       "      <td>0.090044</td>\n",
       "    </tr>\n",
       "  </tbody>\n",
       "</table>\n",
       "</div>"
      ],
      "text/plain": [
       "  city  car_use_percent     population  air_so2_concentration_ppm\n",
       "0    A         0.190134   52756.531425                   0.308758\n",
       "1    B         0.252174  183568.684515                   2.057070\n",
       "2    C         0.335155    3283.327866                   0.586131\n",
       "3    D         0.136883   88007.259212                   0.403134\n",
       "4    E         0.036455   35903.004798                   0.090044"
      ]
     },
     "execution_count": 8,
     "metadata": {},
     "output_type": "execute_result"
    }
   ],
   "source": [
    "# check out the data\n",
    "car_use = pd.read_csv(\"data/car_use.csv\")\n",
    "car_use.head()"
   ]
  },
  {
   "cell_type": "code",
   "execution_count": 9,
   "metadata": {},
   "outputs": [
    {
     "data": {
      "image/png": "[encoded data removed]",
      "text/plain": [
       "<Figure size 432x288 with 1 Axes>"
      ]
     },
     "metadata": {
      "needs_background": "light"
     },
     "output_type": "display_data"
    }
   ],
   "source": [
    "# can compare two numerical variables, so can use a scatterplot to \n",
    "# see if there are relationships\n",
    "sns.scatterplot(x = \"car_use_percent\", \n",
    "                y = \"air_so2_concentration_ppm\", \n",
    "                data = car_use);\n",
    "\n",
    "# add some titles and labels\n",
    "plt.xlabel(\"percentage car use\")\n",
    "plt.ylabel(\"air S02 concentration (ppm)\");\n",
    "plt.title(\"Scatterplot of car use vs air pollution\"); "
   ]
  },
  {
   "cell_type": "code",
   "execution_count": 10,
   "metadata": {},
   "outputs": [
    {
     "data": {
      "image/png": "[encoded data removed]",
      "text/plain": [
       "<Figure size 432x288 with 1 Axes>"
      ]
     },
     "metadata": {
      "needs_background": "light"
     },
     "output_type": "display_data"
    }
   ],
   "source": [
    "# didn't see much of a relationship there, so can look at another variable\n",
    "sns.scatterplot(x = \"population\", \n",
    "                y = \"air_so2_concentration_ppm\", \n",
    "                data = car_use);\n",
    "\n",
    "# add some titles and labels\n",
    "plt.xlabel(\"population\")\n",
    "plt.ylabel(\"air S02 concentration (ppm)\");\n",
    "plt.title(\"Scatterplot of population vs air pollution\");"
   ]
  },
  {
   "cell_type": "code",
   "execution_count": null,
   "metadata": {},
   "outputs": [],
   "source": [
    "# could see if car use is somehow involved too.... \n",
    "sns.scatterplot(x = \"population\", \n",
    "                y = \"air_so2_concentration_ppm\", hue = \"car_use_percent\",\n",
    "                data = car_use);\n",
    "\n",
    "# add some titles and labels\n",
    "plt.xlabel(\"population\")\n",
    "plt.ylabel(\"air S02 concentration (ppm)\");\n",
    "plt.title(\"Scatterplot of population vs air pollution by car use percentage\");"
   ]
  },
  {
   "cell_type": "markdown",
   "metadata": {},
   "source": [
    "<hr style=\"border:0.2px solid black\"> </hr>\n",
    "\n",
    "# Composition Plots\n",
    "\n",
    "Here the goal is to show how the parts of a whole relate to each other, or how they alter over time.\n",
    "\n",
    "If you’re only looking at a single composition, a **pie chart** is fine.\n",
    "\n",
    "If you want to compare multiple compositions, then a **stacked bar chart** is probably better suited to the purpose (lengths are easier to compare than angles).\n",
    "\n",
    "If you are looking at the evolution of a composition over time then a **stacked bar chart** is also fine for a small number of time points, but if you have a large number of time points a **stacked area chart** may be more appropriate.\n",
    "\n",
    "Lastly if you want to look at an accumulation (e.g. a series of debits and credits applied to an opening balance) then a **waterfall chart** is a standard way of representing this.\n",
    "\n",
    "Be conscious whether you’re interest in the shape of the composition (relative size of the parts) or if the level of the composition (absolute size) is also of interest. In the former case, you will usually scale the parts to percentages of the whole. In the latter case you’ll usually retain the original units."
   ]
  },
  {
   "cell_type": "markdown",
   "metadata": {},
   "source": [
    "### Task\n",
    "\n",
    "Make plots to display the data in:\n",
    "\n",
    "> `pension_surplus`"
   ]
  },
  {
   "cell_type": "markdown",
   "metadata": {},
   "source": [
    "### Pension surplus plot"
   ]
  },
  {
   "cell_type": "code",
   "execution_count": null,
   "metadata": {},
   "outputs": [],
   "source": [
    "# check out the data \n",
    "pension_surplus = pd.read_csv(\"data/pension_surplus.csv\")\n",
    "pension_surplus.head()"
   ]
  },
  {
   "cell_type": "code",
   "execution_count": null,
   "metadata": {},
   "outputs": [],
   "source": [
    "# we have count data and categories, could be a good shout for a bar chart\n",
    "sns.barplot(x = \"balance\", \n",
    "            y = \"item\", hue = \"sign\", \n",
    "            data = pension_surplus, orient = \"h\");\n",
    "\n",
    "# add some titles and labels\n",
    "plt.title(\"Change in pension items\");\n",
    "plt.xlabel(\"balance change\")\n",
    "plt.ylabel(\" \");"
   ]
  },
  {
   "cell_type": "code",
   "execution_count": null,
   "metadata": {},
   "outputs": [],
   "source": [
    "# could go further and set particular colours \n",
    "sns.barplot(x = \"balance\", y = \"item\", \n",
    "            hue = \"sign\", \n",
    "            palette = {\"positive\":\"g\", \"negative\":'r'} , \n",
    "            data = pension_surplus, orient = \"h\");\n",
    "\n",
    "\n",
    "# add some titles and labels\n",
    "plt.title(\"Change in pension items\");\n",
    "plt.xlabel(\"balance change\")\n",
    "plt.ylabel(\" \");"
   ]
  }
 ],
 "metadata": {
  "kernelspec": {
   "display_name": "Python 3",
   "language": "python",
   "name": "python3"
  },
  "language_info": {
   "codemirror_mode": {
    "name": "ipython",
    "version": 3
   },
   "file_extension": ".py",
   "mimetype": "text/x-python",
   "name": "python",
   "nbconvert_exporter": "python",
   "pygments_lexer": "ipython3",
   "version": "3.7.3"
  },
  "varInspector": {
   "cols": {
    "lenName": 16,
    "lenType": 16,
    "lenVar": 40
   },
   "kernels_config": {
    "python": {
     "delete_cmd_postfix": "",
     "delete_cmd_prefix": "del ",
     "library": "var_list.py",
     "varRefreshCmd": "print(var_dic_list())"
    },
    "r": {
     "delete_cmd_postfix": ") ",
     "delete_cmd_prefix": "rm(",
     "library": "var_list.r",
     "varRefreshCmd": "cat(var_dic_list()) "
    }
   },
   "types_to_exclude": [
    "module",
    "function",
    "builtin_function_or_method",
    "instance",
    "_Feature"
   ],
   "window_display": false
  }
 },
 "nbformat": 4,
 "nbformat_minor": 2
}
