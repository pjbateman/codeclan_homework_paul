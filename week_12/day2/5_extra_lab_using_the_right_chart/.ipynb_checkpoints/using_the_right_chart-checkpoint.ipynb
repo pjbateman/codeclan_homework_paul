{
 "cells": [
  {
   "cell_type": "markdown",
   "metadata": {},
   "source": [
    "# Lab - Using the right chart"
   ]
  },
  {
   "cell_type": "markdown",
   "metadata": {},
   "source": [
    "This lab lets us practice not only our techincal skills in plotting using `seaborn` but also thinking about effective charts and what kind of graph is most suitable for the data and purpose. \n",
    "\n",
    "For all the exercises below all our answers are just suggestions - you may well have better answers! And we encourage you to play with customisation of the plots (keeping all the learnings around data-to-ink ratio, chart junk, simplicity, colour, font size etc. in mind!). \n",
    "\n",
    "All the datasets can be found in the `data` folder in this lab folder. "
   ]
  },
  {
   "cell_type": "markdown",
   "metadata": {},
   "source": [
    "# Four categories\n",
    "\n",
    "## 1. Comparison\n",
    "\n",
    "Here the goal is to contrast different values between categories or time points.\n",
    "\n",
    "This naturally points to bar or column charts.\n",
    "\n",
    "These are great for comparing a small number of quantitative variables between a small number of categories or time points. The bars give a strong and immediate impression of relative size, but people’s ability to process pre-attentive attributes is limited - show too many comparisons and the effect is undermined.\n",
    "\n",
    "If there are too many points to represent, or too many categories to make comparisons natural, then we typically turn to line graphs.\n",
    "\n",
    "These are particularly suited to time points where the line is naturally suggestive of progression from left to right.\n",
    "\n",
    "However most line charts become confusing beyond 6-8 lines except in unusual circumstances. In this event, we may need to consider faceting our data over multiple subplots. We haven't covered facetting today but you can find out more about it [here](https://seaborn.pydata.org/generated/seaborn.FacetGrid.html).\n",
    "\n",
    "Lastly, if our data is naturally cyclical (e.g. angle, months/seasons of the year, etc.) then it’s worth considering a radar plot, although if there are too many time points a bar plot may be easier to read."
   ]
  },
  {
   "cell_type": "markdown",
   "metadata": {},
   "source": [
    "**Exercise**\n",
    "\n",
    "Create a suitable plot for the following datasets:\n",
    "\n",
    "- late_deliveries\n",
    "- recovery_times (Hint: you might want to look into `sns.catplot`)"
   ]
  },
  {
   "cell_type": "markdown",
   "metadata": {},
   "source": [
    "## 2. Connection\n",
    "\n",
    "Here the objective is to identify the relationship (commonly correlation) between two or three continuous variables.\n",
    "\n",
    "This is the purpose scatter plots were designed for.\n",
    "\n",
    "We can supplement the scatter plot with size or colour aesthetics to show a third dimension, but the effectiveness of this for continuous variables can be uncertain - too many colours can be difficult to make sense of, and sizes are hard to compare.\n",
    "\n",
    "If you want to include a categorical variable as your third, this is more hopeful, although if you have too many categories it can run into the same issues."
   ]
  },
  {
   "cell_type": "markdown",
   "metadata": {},
   "source": [
    "**Exercise**\n",
    "\n",
    "Create a suitable plot for the following datasets:\n",
    "\n",
    "- blood_pressure\n",
    "- car_use"
   ]
  },
  {
   "cell_type": "markdown",
   "metadata": {},
   "source": [
    "## 3. Composition\n",
    "\n",
    "Here the goal is to show how the parts of a whole relate to each other, or how they alter over time.\n",
    "\n",
    "Be conscious whether you’re interest in the shape of the composition (relative size of the parts) or if the level of the composition (absolute size) is also of interest. In the former case, you will usually scale the parts to percentages of the whole. In the latter case you’ll usually retain the original units.\n",
    "\n",
    "If you’re only looking at a single composition, a pie chart is fine.\n",
    "\n",
    "If you want to compare multiple compositions, then a stacked bar chart is probably better suited to the purpose (lengths are easier to compare than angles).\n",
    "\n",
    "If you are looking at the evolution of a composition over time then a stacked bar chart is also fine for a small number of time points, but if you have a large number of time points a stacked area chart may be more appropriate.\n",
    "\n",
    "Lastly if you want to look at an accumulation (e.g. a series of debits and credits applied to an opening balance) then a waterfall chart is a standard way of representing this."
   ]
  },
  {
   "cell_type": "markdown",
   "metadata": {},
   "source": [
    "Make plots to display the data in:\n",
    "\n",
    "- pension_surplus"
   ]
  },
  {
   "cell_type": "markdown",
   "metadata": {},
   "source": [
    "# Extension \n",
    "\n",
    "## Distribution \n",
    "\n",
    "Here the goal is to show the range of outcomes arising in a dataset and the probabilities associated with these outcomes, i.e. a statistical distribution.\n",
    "\n",
    "The classic approach for a single variable is to create a column or line histogram, showing counts (or frequency) falling in a series of intervals (also called bins).\n",
    "\n",
    "For two variables, we typically revert to the scatter plot.\n",
    "\n",
    "If we want to show three variables, we have recourse to a 3d surface plot, but there is an inevitable loss of information in representing three dimensions on a flat drawing. Contour plots or heat maps provide an alternative.\n",
    "\n",
    "To find out more about creating histograms in seaborn the documentation is [here](https://seaborn.pydata.org/generated/seaborn.distplot.html). "
   ]
  },
  {
   "cell_type": "markdown",
   "metadata": {},
   "source": [
    "Plot the following data:\n",
    "\n",
    "- d20_outcomes"
   ]
  }
 ],
 "metadata": {
  "kernelspec": {
   "display_name": "Python 3",
   "language": "python",
   "name": "python3"
  },
  "language_info": {
   "codemirror_mode": {
    "name": "ipython",
    "version": 3
   },
   "file_extension": ".py",
   "mimetype": "text/x-python",
   "name": "python",
   "nbconvert_exporter": "python",
   "pygments_lexer": "ipython3",
   "version": "3.7.3"
  }
 },
 "nbformat": 4,
 "nbformat_minor": 2
}
